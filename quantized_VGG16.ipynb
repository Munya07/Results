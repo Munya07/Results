{
 "cells": [
  {
   "cell_type": "markdown",
   "metadata": {},
   "source": [
    "# Quantization-aware training VGG16"
   ]
  },
  {
   "cell_type": "markdown",
   "metadata": {},
   "source": [
    "Quantization-aware model training ensures that the forward pass matches precision for both training and inference.The quantization error is modeled using fake quantization nodes to simulate the effect of quantization in the forward and backward passes. The forward-pass models quantization, while the backward-pass models quantization as a straight-through estimator. Both the forward- and backward-pass simulate the quantization of weights and activations. Note that during back propagation, the parameters are updated at high precision as this is needed to ensure sufficient precision in accumulating tiny adjustments to the parameters."
   ]
  },
  {
   "cell_type": "markdown",
   "metadata": {
    "colab_type": "text",
    "id": "NDYJKuhfRoyo"
   },
   "source": [
    "**Model quantization**\n",
    "\n",
    "Quantizing deep neural networks uses techniques that allow for reduced precision representations of weights and, optionally, activations for both storage and computation. Quantization provides several benefits:\n",
    "\n",
    "    - Support on existing CPU platforms.\n",
    "    - Quantization of activations reduces memory access costs for reading and storing intermediate activations.\n",
    "    - Many CPU and hardware accelerator implementations provide SIMD instruction capabilities, which are especially beneficial for quantization.\n"
   ]
  },
  {
   "cell_type": "code",
   "execution_count": 1,
   "metadata": {
    "colab": {
     "base_uri": "https://localhost:8080/",
     "height": 52
    },
    "colab_type": "code",
    "id": "3aluRnFKRN9y",
    "outputId": "b4194225-ad73-44a0-cdab-dcac080d9917"
   },
   "outputs": [
    {
     "name": "stdout",
     "output_type": "stream",
     "text": [
      "1.14.0\n"
     ]
    },
    {
     "name": "stderr",
     "output_type": "stream",
     "text": [
      "Using TensorFlow backend.\n"
     ]
    }
   ],
   "source": [
    "import tensorflow as tf\n",
    "from tensorflow import keras\n",
    "import pandas as pd\n",
    "import pathlib\n",
    "import numpy as np\n",
    "import matplotlib.pyplot as plt\n",
    "from keras.utils import np_utils\n",
    "from keras.preprocessing.image import ImageDataGenerator\n",
    "\n",
    "print(tf.__version__)"
   ]
  },
  {
   "cell_type": "code",
   "execution_count": null,
   "metadata": {
    "colab": {},
    "colab_type": "code",
    "id": "EQfLKU88d6NN"
   },
   "outputs": [],
   "source": [
    "!mkdir checkpoints"
   ]
  },
  {
   "cell_type": "code",
   "execution_count": 2,
   "metadata": {},
   "outputs": [
    {
     "name": "stdout",
     "output_type": "stream",
     "text": [
      "38070\n",
      "                                           relative_path label\n",
      "38070   Pepper,_bell___Bacterial_spot/JR_B.Spot 3293.JPG    18\n",
      "38071        Squash___Powdery_mildew/UMD_Powd.M 0707.JPG    25\n",
      "38072              Apple___Apple_scab/FREC_Scab 3120.JPG     0\n",
      "38073               Grape___Black_rot/FAM_B.Rot 3107.JPG    11\n",
      "38074  Tomato___Tomato_Yellow_Leaf_Curl_Virus/UF.GRC_...    35\n",
      "54272\n"
     ]
    }
   ],
   "source": [
    "def get_train_for_keras(input_csv):\n",
    "    original_data = pd.read_csv(input_csv)\n",
    "    df_train_for_keras = original_data.loc[original_data['is_valid'] == False, ['relative_path', 'label']]\n",
    "    df_train_for_keras = df_train_for_keras.astype(str)\n",
    "    return df_train_for_keras\n",
    "\n",
    "def get_val_for_keras(input_csv):\n",
    "    original_data = pd.read_csv(input_csv)\n",
    "    df_val_for_keras = original_data.loc[original_data['is_valid'] == True, ['relative_path', 'label']]\n",
    "    df_val_for_keras = df_val_for_keras.astype(str)\n",
    "    return df_val_for_keras\n",
    "\n",
    "def get_test_for_keras(input_csv):\n",
    "    original_data = pd.read_csv(input_csv)\n",
    "    df_test_for_keras = original_data[['relative_path', 'label']]\n",
    "    df_test_for_keras = df_test_for_keras.astype(str)\n",
    "    return df_test_for_keras\n",
    "\n",
    "df_train_for_keras = get_train_for_keras(str(pathlib.Path.cwd()) + \"/temp/\" + \"train_val_group.csv\")\n",
    "print(len(df_train_for_keras))\n",
    "\n",
    "df_val_for_keras = get_val_for_keras(str(pathlib.Path.cwd()) + \"/temp/\" + \"train_val_group.csv\")\n",
    "print(df_val_for_keras[:5])\n",
    "\n",
    "df_test_for_keras = get_test_for_keras(str(pathlib.Path.cwd()) + \"/temp/\" + \"test_group.csv\")\n",
    "print(len(df_val_for_keras)+len(df_train_for_keras)+len(df_test_for_keras))\n",
    "\n",
    "directory = str(pathlib.Path.cwd()) + \"/raw_datasets/images/plantVillage\""
   ]
  },
  {
   "cell_type": "code",
   "execution_count": 3,
   "metadata": {},
   "outputs": [],
   "source": [
    "train_datagen = ImageDataGenerator(featurewise_center=False,\n",
    "                                   featurewise_std_normalization=False,\n",
    "                                   rescale=1./255,\n",
    "                                   rotation_range=25,\n",
    "                                   horizontal_flip=True)\n",
    "val_datagen = ImageDataGenerator(rescale=1./255)\n",
    "test_datagen = ImageDataGenerator(rescale=1./255)"
   ]
  },
  {
   "cell_type": "code",
   "execution_count": 4,
   "metadata": {},
   "outputs": [
    {
     "name": "stdout",
     "output_type": "stream",
     "text": [
      "Found 38070 validated image filenames belonging to 38 classes.\n",
      "Found 5251 validated image filenames belonging to 38 classes.\n"
     ]
    }
   ],
   "source": [
    "train_generator = train_datagen.flow_from_dataframe(df_train_for_keras,\n",
    "                                                    directory=directory,\n",
    "                                                    x_col='relative_path',\n",
    "                                                    y_col='label',\n",
    "                                                    target_size=(224, 224),\n",
    "                                                    batch_size=64,\n",
    "                                                    drop_duplicates=False)\n",
    "val_generator = val_datagen.flow_from_dataframe(df_val_for_keras,\n",
    "                                                directory=directory,\n",
    "                                                x_col='relative_path',\n",
    "                                                y_col='label',\n",
    "                                                target_size=(224, 224),\n",
    "                                                batch_size=64,\n",
    "                                                shuffle=False,\n",
    "                                                drop_duplicates=False)"
   ]
  },
  {
   "cell_type": "markdown",
   "metadata": {
    "colab_type": "text",
    "id": "vhC7xCG6S-yD"
   },
   "source": [
    "### Build the model\n",
    "\n",
    "- define build_keras_model function since we have to build model 2 times (for train and eval)"
   ]
  },
  {
   "cell_type": "code",
   "execution_count": 5,
   "metadata": {
    "colab": {},
    "colab_type": "code",
    "id": "dNuqMwp5f_GX"
   },
   "outputs": [],
   "source": [
    "from keras.models import Sequential\n",
    "from keras.layers.normalization import BatchNormalization\n",
    "from keras.layers.convolutional import Conv2D\n",
    "from keras.layers.convolutional import MaxPooling2D\n",
    "from keras.layers.core import Activation\n",
    "from keras.layers.core import Flatten\n",
    "from keras.layers.core import Dropout\n",
    "from keras.layers.core import Dense\n",
    "from keras import backend as K\n",
    "from keras.optimizers import SGD\n",
    "from keras import models\n",
    "from keras import layers\n",
    "from keras import optimizers\n",
    "from keras import metrics\n",
    "import os\n",
    "\n",
    "\n",
    "imgindex = 11\n",
    "\n",
    "NUM_EPOCHS = 12\n",
    "INIT_LR = 1e-2\n",
    "BS = 256\n",
    "chanDim = -1\n",
    "classes = 10\n",
    "\n",
    "def build_keras_model():\n",
    "    from keras.applications import VGG16\n",
    "  #Load the VGG model\n",
    "    vgg_conv = VGG16(weights='imagenet', include_top=False, input_shape=(224, 224, 3))\n",
    "    for layer in vgg_conv.layers[:-4]:\n",
    "        layer.trainable = False\n",
    "     # Check the trainable status of the individual layers\n",
    "    for layer in vgg_conv.layers:\n",
    "        print(layer, layer.trainable)\n",
    "      \n",
    "  # Create the model\n",
    "    model = models.Sequential()\n",
    "\n",
    "  # Add the vgg convolutional base model\n",
    "    model.add(vgg_conv)\n",
    "\n",
    "  # Add new layers\n",
    "    model.add(layers.Flatten())\n",
    "    model.add(layers.Dense(1024, activation='relu'))\n",
    "    model.add(layers.Dropout(0.5))\n",
    "    model.add(layers.Dense(38, activation='softmax'))\n",
    "\n",
    "    return model\n",
    "\n"
   ]
  },
  {
   "cell_type": "markdown",
   "metadata": {
    "colab_type": "text",
    "id": "-Vk9oFSZXLl-"
   },
   "source": [
    "## Train model and save it's checkpoints\n",
    "\n",
    "- Use new Session and Graph to ensure that we can use absolutory same name of variables for train and eval phase.\n",
    "- call `tf.contrib.quantize.create_training_graph` after building model since we want to do Quantization Aware Training"
   ]
  },
  {
   "cell_type": "code",
   "execution_count": 6,
   "metadata": {},
   "outputs": [
    {
     "name": "stdout",
     "output_type": "stream",
     "text": [
      "WARNING:tensorflow:From /media/storage1/njera/anaconda3/lib/python3.7/site-packages/keras/backend/tensorflow_backend.py:74: The name tf.get_default_graph is deprecated. Please use tf.compat.v1.get_default_graph instead.\n",
      "\n",
      "WARNING:tensorflow:From /media/storage1/njera/anaconda3/lib/python3.7/site-packages/keras/backend/tensorflow_backend.py:517: The name tf.placeholder is deprecated. Please use tf.compat.v1.placeholder instead.\n",
      "\n",
      "WARNING:tensorflow:From /media/storage1/njera/anaconda3/lib/python3.7/site-packages/keras/backend/tensorflow_backend.py:4138: The name tf.random_uniform is deprecated. Please use tf.random.uniform instead.\n",
      "\n",
      "WARNING:tensorflow:From /media/storage1/njera/anaconda3/lib/python3.7/site-packages/keras/backend/tensorflow_backend.py:3976: The name tf.nn.max_pool is deprecated. Please use tf.nn.max_pool2d instead.\n",
      "\n",
      "WARNING:tensorflow:From /media/storage1/njera/anaconda3/lib/python3.7/site-packages/keras/backend/tensorflow_backend.py:174: The name tf.get_default_session is deprecated. Please use tf.compat.v1.get_default_session instead.\n",
      "\n",
      "WARNING:tensorflow:From /media/storage1/njera/anaconda3/lib/python3.7/site-packages/keras/backend/tensorflow_backend.py:190: The name tf.global_variables is deprecated. Please use tf.compat.v1.global_variables instead.\n",
      "\n",
      "<keras.engine.input_layer.InputLayer object at 0x7efd6a6138d0> False\n",
      "<keras.layers.convolutional.Conv2D object at 0x7efd69c2d4e0> False\n",
      "<keras.layers.convolutional.Conv2D object at 0x7efd69c2d390> False\n",
      "<keras.layers.pooling.MaxPooling2D object at 0x7efd69c2dc88> False\n",
      "<keras.layers.convolutional.Conv2D object at 0x7efd6a8a55c0> False\n",
      "<keras.layers.convolutional.Conv2D object at 0x7efd692ac860> False\n",
      "<keras.layers.pooling.MaxPooling2D object at 0x7efd69246cf8> False\n",
      "<keras.layers.convolutional.Conv2D object at 0x7efd692469b0> False\n",
      "<keras.layers.convolutional.Conv2D object at 0x7efd6927c5c0> False\n",
      "<keras.layers.convolutional.Conv2D object at 0x7efd69219be0> False\n",
      "<keras.layers.pooling.MaxPooling2D object at 0x7efd691572e8> False\n",
      "<keras.layers.convolutional.Conv2D object at 0x7efd6922cb00> False\n",
      "<keras.layers.convolutional.Conv2D object at 0x7efd69173278> False\n",
      "<keras.layers.convolutional.Conv2D object at 0x7efd6918af28> False\n",
      "<keras.layers.pooling.MaxPooling2D object at 0x7efd69123fd0> False\n",
      "<keras.layers.convolutional.Conv2D object at 0x7efd6913d630> True\n",
      "<keras.layers.convolutional.Conv2D object at 0x7efd690ef278> True\n",
      "<keras.layers.convolutional.Conv2D object at 0x7efd6910b438> True\n",
      "<keras.layers.pooling.MaxPooling2D object at 0x7efd68fe8c88> True\n",
      "WARNING:tensorflow:From /media/storage1/njera/anaconda3/lib/python3.7/site-packages/keras/backend/tensorflow_backend.py:3445: calling dropout (from tensorflow.python.ops.nn_ops) with keep_prob is deprecated and will be removed in a future version.\n",
      "Instructions for updating:\n",
      "Please use `rate` instead of `keep_prob`. Rate should be set to `rate = 1 - keep_prob`.\n",
      "WARNING:tensorflow:\n",
      "The TensorFlow contrib module will not be included in TensorFlow 2.0.\n",
      "For more information, please see:\n",
      "  * https://github.com/tensorflow/community/blob/master/rfcs/20180907-contrib-sunset.md\n",
      "  * https://github.com/tensorflow/addons\n",
      "  * https://github.com/tensorflow/io (for I/O related ops)\n",
      "If you depend on functionality not listed there, please file an issue.\n",
      "\n",
      "WARNING:tensorflow:From /media/storage1/njera/anaconda3/lib/python3.7/site-packages/keras/optimizers.py:790: The name tf.train.Optimizer is deprecated. Please use tf.compat.v1.train.Optimizer instead.\n",
      "\n",
      "WARNING:tensorflow:From /media/storage1/njera/anaconda3/lib/python3.7/site-packages/tensorflow/python/ops/math_grad.py:1250: add_dispatch_support.<locals>.wrapper (from tensorflow.python.ops.array_ops) is deprecated and will be removed in a future version.\n",
      "Instructions for updating:\n",
      "Use tf.where in 2.0, which has the same broadcast rule as np.where\n",
      "Epoch 1/20\n",
      "849/849 [==============================] - 669s 788ms/step - loss: 2.6512 - categorical_accuracy: 0.2687 - val_loss: 1.7851 - val_categorical_accuracy: 0.4562\n",
      "Epoch 2/20\n",
      "849/849 [==============================] - 662s 780ms/step - loss: 1.6016 - categorical_accuracy: 0.5136 - val_loss: 1.4462 - val_categorical_accuracy: 0.5680\n",
      "Epoch 3/20\n",
      "849/849 [==============================] - 660s 777ms/step - loss: 1.2319 - categorical_accuracy: 0.6203 - val_loss: 1.0218 - val_categorical_accuracy: 0.6859\n",
      "Epoch 4/20\n",
      "849/849 [==============================] - 660s 778ms/step - loss: 1.0469 - categorical_accuracy: 0.6731 - val_loss: 0.9148 - val_categorical_accuracy: 0.7126\n",
      "Epoch 5/20\n",
      "849/849 [==============================] - 656s 772ms/step - loss: 0.9201 - categorical_accuracy: 0.7099 - val_loss: 0.7533 - val_categorical_accuracy: 0.7566\n",
      "Epoch 6/20\n",
      "849/849 [==============================] - 657s 773ms/step - loss: 0.8303 - categorical_accuracy: 0.7353 - val_loss: 0.8998 - val_categorical_accuracy: 0.7221\n",
      "Epoch 7/20\n",
      "849/849 [==============================] - 662s 780ms/step - loss: 0.7654 - categorical_accuracy: 0.7572 - val_loss: 0.6844 - val_categorical_accuracy: 0.7822\n",
      "Epoch 8/20\n",
      "849/849 [==============================] - 661s 779ms/step - loss: 0.7129 - categorical_accuracy: 0.7691 - val_loss: 0.7111 - val_categorical_accuracy: 0.7696\n",
      "Epoch 9/20\n",
      "849/849 [==============================] - 662s 779ms/step - loss: 0.6622 - categorical_accuracy: 0.7869 - val_loss: 0.5617 - val_categorical_accuracy: 0.8173\n",
      "Epoch 10/20\n",
      "849/849 [==============================] - 661s 779ms/step - loss: 0.6323 - categorical_accuracy: 0.7968 - val_loss: 0.5958 - val_categorical_accuracy: 0.8120\n",
      "Epoch 11/20\n",
      "849/849 [==============================] - 660s 778ms/step - loss: 0.6006 - categorical_accuracy: 0.8075 - val_loss: 0.5404 - val_categorical_accuracy: 0.8268\n",
      "Epoch 12/20\n",
      "849/849 [==============================] - 661s 778ms/step - loss: 0.5651 - categorical_accuracy: 0.8170 - val_loss: 0.5296 - val_categorical_accuracy: 0.8302\n",
      "Epoch 13/20\n",
      "849/849 [==============================] - 662s 780ms/step - loss: 0.5331 - categorical_accuracy: 0.8266 - val_loss: 0.4701 - val_categorical_accuracy: 0.8428\n",
      "Epoch 14/20\n",
      "849/849 [==============================] - 662s 780ms/step - loss: 0.5177 - categorical_accuracy: 0.8312 - val_loss: 0.5217 - val_categorical_accuracy: 0.8241\n",
      "Epoch 15/20\n",
      "849/849 [==============================] - 663s 780ms/step - loss: 0.4855 - categorical_accuracy: 0.8402 - val_loss: 0.5699 - val_categorical_accuracy: 0.8160\n",
      "Epoch 16/20\n",
      "849/849 [==============================] - 664s 782ms/step - loss: 0.4745 - categorical_accuracy: 0.8439 - val_loss: 0.4992 - val_categorical_accuracy: 0.8395\n",
      "Epoch 17/20\n",
      "849/849 [==============================] - 663s 782ms/step - loss: 0.4426 - categorical_accuracy: 0.8541 - val_loss: 0.4195 - val_categorical_accuracy: 0.8660\n",
      "Epoch 18/20\n",
      "849/849 [==============================] - 662s 779ms/step - loss: 0.4337 - categorical_accuracy: 0.8566 - val_loss: 0.4178 - val_categorical_accuracy: 0.8655\n",
      "Epoch 19/20\n",
      "849/849 [==============================] - 662s 780ms/step - loss: 0.4129 - categorical_accuracy: 0.8622 - val_loss: 0.4160 - val_categorical_accuracy: 0.8659\n",
      "Epoch 20/20\n",
      "849/849 [==============================] - 662s 780ms/step - loss: 0.3984 - categorical_accuracy: 0.8681 - val_loss: 0.3414 - val_categorical_accuracy: 0.8891\n"
     ]
    }
   ],
   "source": [
    "train_graph = tf.get_default_graph()\n",
    "\n",
    "train_sess = tf.Session(graph=train_graph)\n",
    "\n",
    "\n",
    "keras.backend.set_session(train_sess)\n",
    "with train_sess.as_default():\n",
    "    with train_graph.as_default():\n",
    "        train_model = build_keras_model()\n",
    "\n",
    "        tf.contrib.quantize.create_training_graph(input_graph=train_graph, quant_delay=100)\n",
    "        train_sess.run(tf.global_variables_initializer())    \n",
    "\n",
    "        #opt = SGD(lr=INIT_LR, momentum=0.9, decay=INIT_LR / NUM_EPOCHS)\n",
    "        train_model.compile(loss=\"categorical_crossentropy\", optimizer=\"adam\",\n",
    "           metrics=[metrics.categorical_accuracy])\n",
    "\n",
    "        history = train_model.fit_generator(train_generator,\n",
    "                                  steps_per_epoch=849,\n",
    "                                  epochs=20,\n",
    "                                  validation_data=val_generator,\n",
    "                                  validation_steps=170)         \n",
    "        # save graph and checkpoints\n",
    "        saver = tf.train.Saver()\n",
    "        saver.save(train_sess, os.path.join(os.getcwd(),'checkpoints'))\n",
    "    #predictions = train_model.predict(testX)"
   ]
  },
  {
   "cell_type": "markdown",
   "metadata": {
    "colab_type": "text",
    "id": "x7AT9qAxelzx"
   },
   "source": []
  },
  {
   "cell_type": "code",
   "execution_count": 7,
   "metadata": {
    "colab": {
     "base_uri": "https://localhost:8080/",
     "height": 273
    },
    "colab_type": "code",
    "id": "jWp9_I06ZjDo",
    "outputId": "6678ca86-923c-442b-bb61-901ad8f5cc67"
   },
   "outputs": [
    {
     "data": {
      "image/png": "[encoded data removed]",
      "text/plain": [
       "<Figure size 432x288 with 1 Axes>"
      ]
     },
     "metadata": {
      "needs_background": "light"
     },
     "output_type": "display_data"
    },
    {
     "data": {
      "image/png": "[encoded data removed]",
      "text/plain": [
       "<Figure size 432x288 with 1 Axes>"
      ]
     },
     "metadata": {
      "needs_background": "light"
     },
     "output_type": "display_data"
    }
   ],
   "source": [
    "acc = history.history['categorical_accuracy']\n",
    "val_acc = history.history['val_categorical_accuracy']\n",
    "loss = history.history['loss']\n",
    "val_loss = history.history['val_loss']\n",
    "epochs = range(1, len(acc) + 1)\n",
    "plt.plot(epochs, acc, 'bo', label='Training acc')\n",
    "plt.plot(epochs, val_acc, 'b', label='Validation acc')\n",
    "plt.title('Training and validation accuracy')\n",
    "plt.legend()\n",
    "plt.figure()\n",
    "plt.plot(epochs, loss, 'bo', label='Training loss')\n",
    "plt.plot(epochs, val_loss, 'b', label='Validation loss')\n",
    "plt.title('Training and validation loss')\n",
    "plt.legend()\n",
    "plt.show()"
   ]
  },
  {
   "cell_type": "markdown",
   "metadata": {
    "colab_type": "text",
    "id": "dYOBvXw6X03l"
   },
   "source": [
    "### Freeze model and save it\n",
    "\n",
    "- Create new Session and Graph\n",
    "- Call `tf.contrib.quantize.create_eval_graph` and get graph_def after building model before saver.restore\n",
    "- Call `saver.restore` to load the trained weights.\n",
    "   - saver.restore may add unneeded variables to the graph. So we have to get the graph_def before save.restore is called.\n",
    "- We can use `tf.graph_util.convert_variables_to_constants` to freeze the graph_def"
   ]
  },
  {
   "cell_type": "code",
   "execution_count": 9,
   "metadata": {
    "colab": {
     "base_uri": "https://localhost:8080/",
     "height": 272
    },
    "colab_type": "code",
    "id": "3tI1s0JngKN0",
    "outputId": "7422aea7-e89f-4741-b157-f3801df4d1ee"
   },
   "outputs": [
    {
     "name": "stdout",
     "output_type": "stream",
     "text": [
      "<keras.engine.input_layer.InputLayer object at 0x7efb083c3c18> False\n",
      "<keras.layers.convolutional.Conv2D object at 0x7efb083c3ac8> False\n",
      "<keras.layers.convolutional.Conv2D object at 0x7efb084376a0> False\n",
      "<keras.layers.pooling.MaxPooling2D object at 0x7efb083d2be0> False\n",
      "<keras.layers.convolutional.Conv2D object at 0x7efb083d27b8> False\n",
      "<keras.layers.convolutional.Conv2D object at 0x7efb083e2748> False\n",
      "<keras.layers.pooling.MaxPooling2D object at 0x7efb083a4c88> False\n",
      "<keras.layers.convolutional.Conv2D object at 0x7efb083a49e8> False\n",
      "<keras.layers.convolutional.Conv2D object at 0x7efb08356208> False\n",
      "<keras.layers.convolutional.Conv2D object at 0x7efb0836bda0> False\n",
      "<keras.layers.pooling.MaxPooling2D object at 0x7efb083205c0> False\n",
      "<keras.layers.convolutional.Conv2D object at 0x7efb08305dd8> False\n",
      "<keras.layers.convolutional.Conv2D object at 0x7efb082cf208> False\n",
      "<keras.layers.convolutional.Conv2D object at 0x7efb082ed390> False\n",
      "<keras.layers.pooling.MaxPooling2D object at 0x7efb08288c50> False\n",
      "<keras.layers.convolutional.Conv2D object at 0x7efb08288668> True\n",
      "<keras.layers.convolutional.Conv2D object at 0x7efb082b75c0> True\n",
      "<keras.layers.convolutional.Conv2D object at 0x7efb082b7f28> True\n",
      "<keras.layers.pooling.MaxPooling2D object at 0x7efb0826ccc0> True\n",
      "WARNING:tensorflow:From /media/storage1/njera/anaconda3/lib/python3.7/site-packages/tensorflow/python/training/saver.py:1276: checkpoint_exists (from tensorflow.python.training.checkpoint_management) is deprecated and will be removed in a future version.\n",
      "Instructions for updating:\n",
      "Use standard file APIs to check for files with this prefix.\n",
      "INFO:tensorflow:Restoring parameters from ./checkpoints\n",
      "WARNING:tensorflow:From <ipython-input-9-b727afbb18b2>:21: convert_variables_to_constants (from tensorflow.python.framework.graph_util_impl) is deprecated and will be removed in a future version.\n",
      "Instructions for updating:\n",
      "Use `tf.compat.v1.graph_util.convert_variables_to_constants`\n",
      "WARNING:tensorflow:From /media/storage1/njera/anaconda3/lib/python3.7/site-packages/tensorflow/python/framework/graph_util_impl.py:270: extract_sub_graph (from tensorflow.python.framework.graph_util_impl) is deprecated and will be removed in a future version.\n",
      "Instructions for updating:\n",
      "Use `tf.compat.v1.graph_util.extract_sub_graph`\n",
      "INFO:tensorflow:Froze 90 variables.\n",
      "INFO:tensorflow:Converted 90 variables to const ops.\n"
     ]
    }
   ],
   "source": [
    "# eval\n",
    "os.environ[\"CUDA_VISIBLE_DEVICES\"] = \"0\"\n",
    "gpu_options = tf.GPUOptions(allow_growth=True)\n",
    "#sess = tf.Session(config=tf.ConfigProto(gpu_options=gpu_options))\n",
    "eval_graph = tf.Graph()\n",
    "eval_sess = tf.Session(config=tf.ConfigProto(gpu_options=gpu_options))\n",
    "\n",
    "keras.backend.set_session(eval_sess)\n",
    "\n",
    "with eval_graph.as_default():\n",
    "    keras.backend.set_learning_phase(0)\n",
    "    eval_model = build_keras_model()\n",
    "    tf.contrib.quantize.create_eval_graph(input_graph=eval_graph)\n",
    "    eval_graph_def = eval_graph.as_graph_def()\n",
    "    saver = tf.train.Saver()\n",
    "    saver.restore(eval_sess, './checkpoints')\n",
    "\n",
    "    frozen_graph_def = tf.graph_util.convert_variables_to_constants(\n",
    "        eval_sess,\n",
    "        eval_graph_def,\n",
    "        [eval_model.output.op.name]\n",
    "    )\n",
    "\n",
    "    with open('VGG16_frozen_model.pb', 'wb') as f:\n",
    "        f.write(frozen_graph_def.SerializeToString())"
   ]
  }
 ],
 "metadata": {
  "accelerator": "GPU",
  "colab": {
   "collapsed_sections": [],
   "name": "Success EdgeTPU with Keras",
   "provenance": [],
   "toc_visible": true
  },
  "kernelspec": {
   "display_name": "Python 3",
   "language": "python",
   "name": "python3"
  },
  "language_info": {
   "codemirror_mode": {
    "name": "ipython",
    "version": 3
   },
   "file_extension": ".py",
   "mimetype": "text/x-python",
   "name": "python",
   "nbconvert_exporter": "python",
   "pygments_lexer": "ipython3",
   "version": "3.7.3"
  }
 },
 "nbformat": 4,
 "nbformat_minor": 1
}
