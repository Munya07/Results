{
 "cells": [
  {
   "cell_type": "markdown",
   "metadata": {},
   "source": [
    "## MobileNet Pretrained"
   ]
  },
  {
   "cell_type": "code",
   "execution_count": 1,
   "metadata": {},
   "outputs": [
    {
     "name": "stderr",
     "output_type": "stream",
     "text": [
      "Using TensorFlow backend.\n"
     ]
    }
   ],
   "source": [
    "import pandas as pd\n",
    "import numpy as np\n",
    "import pathlib\n",
    "from keras.applications import MobileNet\n",
    "from keras.preprocessing.image import ImageDataGenerator\n",
    "from keras import models\n",
    "from keras import layers\n",
    "from keras import optimizers\n",
    "from keras import metrics\n",
    "from keras import backend as K\n",
    "import matplotlib.pyplot as plt\n",
    "import tensorflow as tf\n",
    "from keras.layers.core import Dropout\n",
    "from keras.models import Sequential\n",
    "from keras.layers import ZeroPadding2D,Conv2D,BatchNormalization,Input,Dropout,DepthwiseConv2D,Input\n",
    "from keras.layers import ReLU,GlobalAveragePooling2D,GlobalMaxPool2D,Reshape,Activation\n",
    "from keras.models import Model\n",
    "from keras.callbacks import ModelCheckpoint, TensorBoard\n",
    "from keras import models\n",
    "import os"
   ]
  },
  {
   "cell_type": "code",
   "execution_count": 2,
   "metadata": {},
   "outputs": [],
   "source": [
    "os.environ[\"CUDA_VISIBLE_DEVICES\"] = \"1\"\n",
    "gpu_options = tf.GPUOptions(allow_growth=True)\n",
    "sess = tf.Session(config=tf.ConfigProto(gpu_options=gpu_options))"
   ]
  },
  {
   "cell_type": "code",
   "execution_count": 3,
   "metadata": {},
   "outputs": [],
   "source": [
    "\n",
    "\n",
    "\n",
    "def build_keras_model():\n",
    "  #Load the ResNet50 model\n",
    "    shape = (1,1,int(1024*1.0))\n",
    "    classes = 38\n",
    "    dropout = 1e-3\n",
    "    model = Sequential()\n",
    "    model.add(MobileNet(weights='imagenet', \n",
    "                     include_top=False,\n",
    "                     input_shape=(224, 224, 3)))\n",
    "    model.add(GlobalAveragePooling2D())\n",
    "    model.add(Reshape(shape,name='reshape_1'))\n",
    "    model.add(Dropout(dropout,name='dropout'))\n",
    "    model.add(Conv2D(classes,(1,1),padding='same',name='conv_fc'))\n",
    "    model.add(Activation('softmax',name='softmax'))\n",
    "    model.add(Reshape((38,),name='reshape_2'))\n",
    "\n",
    "    model.layers[0].trainable = False\n",
    "    for layer in model.layers[:5]:\n",
    "        layer.trainable = True\n",
    "    \n",
    "    return model"
   ]
  },
  {
   "cell_type": "code",
   "execution_count": 4,
   "metadata": {},
   "outputs": [
    {
     "name": "stdout",
     "output_type": "stream",
     "text": [
      "WARNING:tensorflow:From /media/storage1/njera/anaconda3/lib/python3.7/site-packages/keras/backend/tensorflow_backend.py:74: The name tf.get_default_graph is deprecated. Please use tf.compat.v1.get_default_graph instead.\n",
      "\n",
      "WARNING:tensorflow:From /media/storage1/njera/anaconda3/lib/python3.7/site-packages/keras/backend/tensorflow_backend.py:517: The name tf.placeholder is deprecated. Please use tf.compat.v1.placeholder instead.\n",
      "\n",
      "WARNING:tensorflow:From /media/storage1/njera/anaconda3/lib/python3.7/site-packages/keras/backend/tensorflow_backend.py:4138: The name tf.random_uniform is deprecated. Please use tf.random.uniform instead.\n",
      "\n",
      "WARNING:tensorflow:From /media/storage1/njera/anaconda3/lib/python3.7/site-packages/keras/backend/tensorflow_backend.py:174: The name tf.get_default_session is deprecated. Please use tf.compat.v1.get_default_session instead.\n",
      "\n",
      "WARNING:tensorflow:From /media/storage1/njera/anaconda3/lib/python3.7/site-packages/keras/backend/tensorflow_backend.py:181: The name tf.ConfigProto is deprecated. Please use tf.compat.v1.ConfigProto instead.\n",
      "\n",
      "WARNING:tensorflow:From /media/storage1/njera/anaconda3/lib/python3.7/site-packages/keras/backend/tensorflow_backend.py:1834: The name tf.nn.fused_batch_norm is deprecated. Please use tf.compat.v1.nn.fused_batch_norm instead.\n",
      "\n",
      "WARNING:tensorflow:From /media/storage1/njera/anaconda3/lib/python3.7/site-packages/keras/backend/tensorflow_backend.py:3445: calling dropout (from tensorflow.python.ops.nn_ops) with keep_prob is deprecated and will be removed in a future version.\n",
      "Instructions for updating:\n",
      "Please use `rate` instead of `keep_prob`. Rate should be set to `rate = 1 - keep_prob`.\n",
      "_________________________________________________________________\n",
      "Layer (type)                 Output Shape              Param #   \n",
      "=================================================================\n",
      "mobilenet_1.00_224 (Model)   (None, 7, 7, 1024)        3228864   \n",
      "_________________________________________________________________\n",
      "global_average_pooling2d_1 ( (None, 1024)              0         \n",
      "_________________________________________________________________\n",
      "reshape_1 (Reshape)          (None, 1, 1, 1024)        0         \n",
      "_________________________________________________________________\n",
      "dropout (Dropout)            (None, 1, 1, 1024)        0         \n",
      "_________________________________________________________________\n",
      "conv_fc (Conv2D)             (None, 1, 1, 38)          38950     \n",
      "_________________________________________________________________\n",
      "softmax (Activation)         (None, 1, 1, 38)          0         \n",
      "_________________________________________________________________\n",
      "reshape_2 (Reshape)          (None, 38)                0         \n",
      "=================================================================\n",
      "Total params: 3,267,814\n",
      "Trainable params: 3,245,926\n",
      "Non-trainable params: 21,888\n",
      "_________________________________________________________________\n"
     ]
    }
   ],
   "source": [
    "model=build_keras_model()\n",
    "model.summary()"
   ]
  },
  {
   "cell_type": "code",
   "execution_count": 5,
   "metadata": {},
   "outputs": [
    {
     "name": "stdout",
     "output_type": "stream",
     "text": [
      "                                       relative_path label\n",
      "0      Corn_(maize)___healthy/R.S_HL 7959 copy 2.jpg    10\n",
      "1  Tomato___Spider_mites Two-spotted_spider_mite/...    33\n",
      "2               Apple___Black_rot/JR_FrgE.S 8626.JPG     1\n",
      "3                Tomato___healthy/GH_HL Leaf 207.JPG    37\n",
      "4            Tomato___Leaf_Mold/Crnl_L.Mold 9008.JPG    31\n",
      "                                           relative_path label\n",
      "38070   Pepper,_bell___Bacterial_spot/JR_B.Spot 3293.JPG    18\n",
      "38071        Squash___Powdery_mildew/UMD_Powd.M 0707.JPG    25\n",
      "38072              Apple___Apple_scab/FREC_Scab 3120.JPG     0\n",
      "38073               Grape___Black_rot/FAM_B.Rot 3107.JPG    11\n",
      "38074  Tomato___Tomato_Yellow_Leaf_Curl_Virus/UF.GRC_...    35\n",
      "                                       relative_path label\n",
      "0  Tomato___Tomato_Yellow_Leaf_Curl_Virus/YLCV_NR...    35\n",
      "1      Corn_(maize)___healthy/R.S_HL 7921 copy 2.jpg    10\n",
      "2                Potato___Late_blight/RS_LB 3303.JPG    21\n",
      "3            Tomato___Leaf_Mold/Crnl_L.Mold 8757.JPG    31\n",
      "4  Tomato___Bacterial_spot/UF.GRC_BS_Lab Leaf 898...    28\n"
     ]
    }
   ],
   "source": [
    "def get_train_for_keras(input_csv):\n",
    "    original_data = pd.read_csv(input_csv)\n",
    "    df_train_for_keras = original_data.loc[original_data['is_valid'] == False, ['relative_path', 'label']]\n",
    "    df_train_for_keras = df_train_for_keras.astype(str)\n",
    "    return df_train_for_keras\n",
    "\n",
    "def get_val_for_keras(input_csv):\n",
    "    original_data = pd.read_csv(input_csv)\n",
    "    df_val_for_keras = original_data.loc[original_data['is_valid'] == True, ['relative_path', 'label']]\n",
    "    df_val_for_keras = df_val_for_keras.astype(str)\n",
    "    return df_val_for_keras\n",
    "\n",
    "def get_test_for_keras(input_csv):\n",
    "    original_data = pd.read_csv(input_csv)\n",
    "    df_test_for_keras = original_data[['relative_path', 'label']]\n",
    "    df_test_for_keras = df_test_for_keras.astype(str)\n",
    "    return df_test_for_keras\n",
    "\n",
    "df_train_for_keras = get_train_for_keras(str(pathlib.Path.cwd()) + \"/temp/\" + \"train_val_group.csv\")\n",
    "print(df_train_for_keras[:5])\n",
    "\n",
    "df_val_for_keras = get_val_for_keras(str(pathlib.Path.cwd()) + \"/temp/\" + \"train_val_group.csv\")\n",
    "print(df_val_for_keras[:5])\n",
    "\n",
    "df_test_for_keras = get_test_for_keras(str(pathlib.Path.cwd()) + \"/temp/\" + \"test_group.csv\")\n",
    "print(df_test_for_keras[:5])\n",
    "\n",
    "directory = str(pathlib.Path.cwd()) + \"/raw_datasets/images/plantVillage\""
   ]
  },
  {
   "cell_type": "code",
   "execution_count": 6,
   "metadata": {},
   "outputs": [],
   "source": [
    "train_datagen = ImageDataGenerator(featurewise_center=False,\n",
    "                                   featurewise_std_normalization=False,\n",
    "                                   rescale=1./255,\n",
    "                                   rotation_range=25,\n",
    "                                   horizontal_flip=True)\n",
    "val_datagen = ImageDataGenerator(rescale=1./255)\n",
    "test_datagen = ImageDataGenerator(rescale=1./255)"
   ]
  },
  {
   "cell_type": "code",
   "execution_count": 7,
   "metadata": {},
   "outputs": [
    {
     "name": "stdout",
     "output_type": "stream",
     "text": [
      "Found 38070 validated image filenames belonging to 38 classes.\n",
      "Found 5251 validated image filenames belonging to 38 classes.\n"
     ]
    }
   ],
   "source": [
    "train_generator = train_datagen.flow_from_dataframe(df_train_for_keras,\n",
    "                                                    directory=directory,\n",
    "                                                    x_col='relative_path',\n",
    "                                                    y_col='label',\n",
    "                                                    target_size=(224, 224),\n",
    "                                                    batch_size=64,\n",
    "                                                    drop_duplicates=False)\n",
    "val_generator = val_datagen.flow_from_dataframe(df_val_for_keras,\n",
    "                                                directory=directory,\n",
    "                                                x_col='relative_path',\n",
    "                                                y_col='label',\n",
    "                                                target_size=(224, 224),\n",
    "                                                batch_size=64,\n",
    "                                                shuffle=False,\n",
    "                                                drop_duplicates=False)"
   ]
  },
  {
   "cell_type": "code",
   "execution_count": 8,
   "metadata": {
    "scrolled": true
   },
   "outputs": [
    {
     "name": "stdout",
     "output_type": "stream",
     "text": [
      "WARNING:tensorflow:From /media/storage1/njera/anaconda3/lib/python3.7/site-packages/keras/optimizers.py:790: The name tf.train.Optimizer is deprecated. Please use tf.compat.v1.train.Optimizer instead.\n",
      "\n",
      "WARNING:tensorflow:From /media/storage1/njera/anaconda3/lib/python3.7/site-packages/tensorflow/python/ops/math_grad.py:1250: add_dispatch_support.<locals>.wrapper (from tensorflow.python.ops.array_ops) is deprecated and will be removed in a future version.\n",
      "Instructions for updating:\n",
      "Use tf.where in 2.0, which has the same broadcast rule as np.where\n",
      "Epoch 1/20\n",
      "849/849 [==============================] - 633s 745ms/step - loss: 0.1656 - categorical_accuracy: 0.9491 - val_loss: 0.4627 - val_categorical_accuracy: 0.8674\n",
      "Epoch 2/20\n",
      "849/849 [==============================] - 627s 738ms/step - loss: 0.0712 - categorical_accuracy: 0.9766 - val_loss: 0.2733 - val_categorical_accuracy: 0.9305\n",
      "Epoch 3/20\n",
      "849/849 [==============================] - 626s 737ms/step - loss: 0.0545 - categorical_accuracy: 0.9823 - val_loss: 0.5630 - val_categorical_accuracy: 0.8727\n",
      "Epoch 4/20\n",
      "849/849 [==============================] - 620s 730ms/step - loss: 0.0488 - categorical_accuracy: 0.9848 - val_loss: 0.1270 - val_categorical_accuracy: 0.9638\n",
      "Epoch 5/20\n",
      "849/849 [==============================] - 627s 738ms/step - loss: 0.0421 - categorical_accuracy: 0.9862 - val_loss: 0.3268 - val_categorical_accuracy: 0.9257\n",
      "Epoch 6/20\n",
      "849/849 [==============================] - 626s 737ms/step - loss: 0.0407 - categorical_accuracy: 0.9871 - val_loss: 0.2715 - val_categorical_accuracy: 0.9374\n",
      "Epoch 7/20\n",
      "849/849 [==============================] - 626s 737ms/step - loss: 0.0304 - categorical_accuracy: 0.9899 - val_loss: 0.1887 - val_categorical_accuracy: 0.9623\n",
      "Epoch 8/20\n",
      "849/849 [==============================] - 626s 738ms/step - loss: 0.0321 - categorical_accuracy: 0.9898 - val_loss: 0.0847 - val_categorical_accuracy: 0.9809\n",
      "Epoch 9/20\n",
      "849/849 [==============================] - 637s 750ms/step - loss: 0.0267 - categorical_accuracy: 0.9911 - val_loss: 0.0733 - val_categorical_accuracy: 0.9789\n",
      "Epoch 10/20\n",
      "849/849 [==============================] - 627s 739ms/step - loss: 0.0254 - categorical_accuracy: 0.9916 - val_loss: 0.0853 - val_categorical_accuracy: 0.9766\n",
      "Epoch 11/20\n",
      "849/849 [==============================] - 629s 740ms/step - loss: 0.0254 - categorical_accuracy: 0.9920 - val_loss: 0.1426 - val_categorical_accuracy: 0.9677\n",
      "Epoch 12/20\n",
      "849/849 [==============================] - 626s 737ms/step - loss: 0.0221 - categorical_accuracy: 0.9929 - val_loss: 0.1969 - val_categorical_accuracy: 0.9606\n",
      "Epoch 13/20\n",
      "849/849 [==============================] - 631s 743ms/step - loss: 0.0189 - categorical_accuracy: 0.9942 - val_loss: 0.2762 - val_categorical_accuracy: 0.9392\n",
      "Epoch 14/20\n",
      "849/849 [==============================] - 624s 735ms/step - loss: 0.0211 - categorical_accuracy: 0.9932 - val_loss: 0.0972 - val_categorical_accuracy: 0.9739\n",
      "Epoch 15/20\n",
      "849/849 [==============================] - 626s 737ms/step - loss: 0.0182 - categorical_accuracy: 0.9937 - val_loss: 0.0778 - val_categorical_accuracy: 0.9828\n",
      "Epoch 16/20\n",
      "849/849 [==============================] - 628s 740ms/step - loss: 0.0179 - categorical_accuracy: 0.9945 - val_loss: 0.1116 - val_categorical_accuracy: 0.9725\n",
      "Epoch 17/20\n",
      "849/849 [==============================] - 629s 741ms/step - loss: 0.0150 - categorical_accuracy: 0.9947 - val_loss: 0.4074 - val_categorical_accuracy: 0.9189\n",
      "Epoch 18/20\n",
      "849/849 [==============================] - 628s 740ms/step - loss: 0.0178 - categorical_accuracy: 0.9946 - val_loss: 0.2208 - val_categorical_accuracy: 0.9479\n",
      "Epoch 19/20\n",
      "849/849 [==============================] - 639s 753ms/step - loss: 0.0109 - categorical_accuracy: 0.9962 - val_loss: 0.0931 - val_categorical_accuracy: 0.9783\n",
      "Epoch 20/20\n",
      "849/849 [==============================] - 631s 743ms/step - loss: 0.0148 - categorical_accuracy: 0.9955 - val_loss: 0.7022 - val_categorical_accuracy: 0.8797\n"
     ]
    }
   ],
   "source": [
    "%reload_ext autoreload\n",
    "%autoreload 2\n",
    "%matplotlib inline\n",
    "\n",
    "opt = optimizers.rmsprop(lr=1e-4, decay=1e-6)\n",
    "\n",
    "# Let's train the model using RMSprop\n",
    "import PIL.Image\n",
    "train_model = build_keras_model()\n",
    "\n",
    "    \n",
    "\n",
    "#opt = SGD(lr=INIT_LR, momentum=0.9, decay=INIT_LR / NUM_EPOCHS)\n",
    "train_model.compile(loss=\"categorical_crossentropy\", optimizer=\"adam\",\n",
    "   metrics=[metrics.categorical_accuracy])\n",
    "\n",
    "history = train_model.fit_generator(train_generator,\n",
    "                          steps_per_epoch=849,\n",
    "                          epochs=20,\n",
    "                          validation_data=val_generator,\n",
    "                          validation_steps=170)   \n",
    "\n",
    "#model.save(str(pathlib.Path.cwd()) + \"/models/\" + \"mobile_net_keras_stage_1_group.h5\")"
   ]
  },
  {
   "cell_type": "code",
   "execution_count": 9,
   "metadata": {},
   "outputs": [
    {
     "data": {
      "image/png": "[encoded data removed]",
      "text/plain": [
       "<Figure size 432x288 with 1 Axes>"
      ]
     },
     "metadata": {
      "needs_background": "light"
     },
     "output_type": "display_data"
    },
    {
     "data": {
      "image/png": "[encoded data removed]",
      "text/plain": [
       "<Figure size 432x288 with 1 Axes>"
      ]
     },
     "metadata": {
      "needs_background": "light"
     },
     "output_type": "display_data"
    }
   ],
   "source": [
    "acc = history.history['categorical_accuracy']\n",
    "val_acc = history.history['val_categorical_accuracy']\n",
    "loss = history.history['loss']\n",
    "val_loss = history.history['val_loss']\n",
    "epochs = range(1, len(acc) + 1)\n",
    "plt.plot(epochs, acc, 'bo', label='Training acc')\n",
    "plt.plot(epochs, val_acc, 'b', label='Validation acc')\n",
    "plt.title('Training and validation accuracy')\n",
    "plt.legend()\n",
    "plt.figure()\n",
    "plt.plot(epochs, loss, 'bo', label='Training loss')\n",
    "plt.plot(epochs, val_loss, 'b', label='Validation loss')\n",
    "plt.title('Training and validation loss')\n",
    "plt.legend()\n",
    "plt.show()"
   ]
  },
  {
   "cell_type": "code",
   "execution_count": null,
   "metadata": {},
   "outputs": [],
   "source": []
  }
 ],
 "metadata": {
  "kernelspec": {
   "display_name": "Python 3",
   "language": "python",
   "name": "python3"
  },
  "language_info": {
   "codemirror_mode": {
    "name": "ipython",
    "version": 3
   },
   "file_extension": ".py",
   "mimetype": "text/x-python",
   "name": "python",
   "nbconvert_exporter": "python",
   "pygments_lexer": "ipython3",
   "version": "3.7.3"
  },
  "toc": {
   "base_numbering": 1,
   "nav_menu": {},
   "number_sections": true,
   "sideBar": true,
   "skip_h1_title": false,
   "title_cell": "Table of Contents",
   "title_sidebar": "Contents",
   "toc_cell": false,
   "toc_position": {},
   "toc_section_display": true,
   "toc_window_display": false
  }
 },
 "nbformat": 4,
 "nbformat_minor": 2
}
