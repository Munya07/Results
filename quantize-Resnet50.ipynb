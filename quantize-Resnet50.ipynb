{
 "cells": [
  {
   "cell_type": "markdown",
   "metadata": {
    "colab_type": "text",
    "id": "auEGoMDKW8Z7"
   },
   "source": [
    "# Quantization-aware training VGG16"
   ]
  },
  {
   "cell_type": "markdown",
   "metadata": {
    "colab_type": "text",
    "id": "NDYJKuhfRoyo"
   },
   "source": [
    "Quantization-aware model training ensures that the forward pass matches precision for both training and inference.The quantization error is modeled using fake quantization nodes to simulate the effect of quantization in the forward and backward passes. The forward-pass models quantization, while the backward-pass models quantization as a straight-through estimator. Both the forward- and backward-pass simulate the quantization of weights and activations. Note that during back propagation, the parameters are updated at high precision as this is needed to ensure sufficient precision in accumulating tiny adjustments to the parameters."
   ]
  },
  {
   "cell_type": "markdown",
   "metadata": {},
   "source": [
    "**Model quantization**\n",
    "\n",
    "Quantizing deep neural networks uses techniques that allow for reduced precision representations of weights and, optionally, activations for both storage and computation. Quantization provides several benefits:\n",
    "\n",
    "    - Support on existing CPU platforms.\n",
    "    - Quantization of activations reduces memory access costs for reading and storing intermediate activations.\n",
    "    - Many CPU and hardware accelerator implementations provide SIMD instruction capabilities, which are especially beneficial for quantization."
   ]
  },
  {
   "cell_type": "code",
   "execution_count": null,
   "metadata": {
    "colab": {},
    "colab_type": "code",
    "id": "EQfLKU88d6NN"
   },
   "outputs": [],
   "source": [
    "!mkdir checkpoints"
   ]
  },
  {
   "cell_type": "code",
   "execution_count": 1,
   "metadata": {
    "colab": {
     "base_uri": "https://localhost:8080/",
     "height": 52
    },
    "colab_type": "code",
    "id": "3aluRnFKRN9y",
    "outputId": "b4194225-ad73-44a0-cdab-dcac080d9917"
   },
   "outputs": [
    {
     "name": "stdout",
     "output_type": "stream",
     "text": [
      "1.14.0\n"
     ]
    },
    {
     "name": "stderr",
     "output_type": "stream",
     "text": [
      "Using TensorFlow backend.\n"
     ]
    }
   ],
   "source": [
    "import tensorflow as tf\n",
    "from tensorflow import keras\n",
    "import pandas as pd\n",
    "import pathlib\n",
    "import numpy as np\n",
    "import matplotlib.pyplot as plt\n",
    "from keras.utils import np_utils\n",
    "from keras.preprocessing.image import ImageDataGenerator\n",
    "\n",
    "print(tf.__version__)"
   ]
  },
  {
   "cell_type": "code",
   "execution_count": 2,
   "metadata": {},
   "outputs": [
    {
     "name": "stdout",
     "output_type": "stream",
     "text": [
      "38070\n",
      "                                           relative_path label\n",
      "38070   Pepper,_bell___Bacterial_spot/JR_B.Spot 3293.JPG    18\n",
      "38071        Squash___Powdery_mildew/UMD_Powd.M 0707.JPG    25\n",
      "38072              Apple___Apple_scab/FREC_Scab 3120.JPG     0\n",
      "38073               Grape___Black_rot/FAM_B.Rot 3107.JPG    11\n",
      "38074  Tomato___Tomato_Yellow_Leaf_Curl_Virus/UF.GRC_...    35\n",
      "54272\n"
     ]
    }
   ],
   "source": [
    "def get_train_for_keras(input_csv):\n",
    "    original_data = pd.read_csv(input_csv)\n",
    "    df_train_for_keras = original_data.loc[original_data['is_valid'] == False, ['relative_path', 'label']]\n",
    "    df_train_for_keras = df_train_for_keras.astype(str)\n",
    "    return df_train_for_keras\n",
    "\n",
    "def get_val_for_keras(input_csv):\n",
    "    original_data = pd.read_csv(input_csv)\n",
    "    df_val_for_keras = original_data.loc[original_data['is_valid'] == True, ['relative_path', 'label']]\n",
    "    df_val_for_keras = df_val_for_keras.astype(str)\n",
    "    return df_val_for_keras\n",
    "\n",
    "def get_test_for_keras(input_csv):\n",
    "    original_data = pd.read_csv(input_csv)\n",
    "    df_test_for_keras = original_data[['relative_path', 'label']]\n",
    "    df_test_for_keras = df_test_for_keras.astype(str)\n",
    "    return df_test_for_keras\n",
    "\n",
    "df_train_for_keras = get_train_for_keras(str(pathlib.Path.cwd()) + \"/temp/\" + \"train_val_group.csv\")\n",
    "print(len(df_train_for_keras))\n",
    "\n",
    "df_val_for_keras = get_val_for_keras(str(pathlib.Path.cwd()) + \"/temp/\" + \"train_val_group.csv\")\n",
    "print(df_val_for_keras[:5])\n",
    "\n",
    "df_test_for_keras = get_test_for_keras(str(pathlib.Path.cwd()) + \"/temp/\" + \"test_group.csv\")\n",
    "print(len(df_val_for_keras)+len(df_train_for_keras)+len(df_test_for_keras))\n",
    "\n",
    "directory = str(pathlib.Path.cwd()) + \"/raw_datasets/images/plantVillage\""
   ]
  },
  {
   "cell_type": "code",
   "execution_count": 3,
   "metadata": {},
   "outputs": [],
   "source": [
    "train_datagen = ImageDataGenerator(featurewise_center=False,\n",
    "                                   featurewise_std_normalization=False,\n",
    "                                   rescale=1./255,\n",
    "                                   rotation_range=25,\n",
    "                                   horizontal_flip=True)\n",
    "val_datagen = ImageDataGenerator(rescale=1./255)\n",
    "test_datagen = ImageDataGenerator(rescale=1./255)"
   ]
  },
  {
   "cell_type": "code",
   "execution_count": 4,
   "metadata": {},
   "outputs": [
    {
     "name": "stdout",
     "output_type": "stream",
     "text": [
      "Found 38070 validated image filenames belonging to 38 classes.\n",
      "Found 5251 validated image filenames belonging to 38 classes.\n"
     ]
    }
   ],
   "source": [
    "train_generator = train_datagen.flow_from_dataframe(df_train_for_keras,\n",
    "                                                    directory=directory,\n",
    "                                                    x_col='relative_path',\n",
    "                                                    y_col='label',\n",
    "                                                    target_size=(224, 224),\n",
    "                                                    batch_size=64,\n",
    "                                                    drop_duplicates=False)\n",
    "val_generator = val_datagen.flow_from_dataframe(df_val_for_keras,\n",
    "                                                directory=directory,\n",
    "                                                x_col='relative_path',\n",
    "                                                y_col='label',\n",
    "                                                target_size=(224, 224),\n",
    "                                                batch_size=64,\n",
    "                                                shuffle=False,\n",
    "                                                drop_duplicates=False)"
   ]
  },
  {
   "cell_type": "markdown",
   "metadata": {
    "colab_type": "text",
    "id": "vhC7xCG6S-yD"
   },
   "source": [
    "### Build the model\n",
    "\n",
    "- define build_keras_model function since we have to build model 2 times (for train and eval)"
   ]
  },
  {
   "cell_type": "code",
   "execution_count": 11,
   "metadata": {
    "colab": {},
    "colab_type": "code",
    "id": "dNuqMwp5f_GX"
   },
   "outputs": [],
   "source": [
    "from keras.models import Sequential\n",
    "from keras.applications import ResNet50\n",
    "from keras.layers.normalization import BatchNormalization\n",
    "from keras.layers.convolutional import Conv2D\n",
    "from keras.layers.convolutional import MaxPooling2D\n",
    "from keras.layers import Dense, GlobalAveragePooling2D\n",
    "from keras.models import Model, Sequential\n",
    "from keras.layers.core import Activation\n",
    "from keras.layers.core import Flatten\n",
    "from keras.layers.core import Dropout\n",
    "from keras.layers.core import Dense\n",
    "from keras import backend as K\n",
    "from keras.optimizers import SGD\n",
    "from keras import models\n",
    "from keras import layers\n",
    "from keras import optimizers\n",
    "from keras import metrics\n",
    "import os\n",
    "\n",
    "\n",
    "def build_keras_model():\n",
    "  #Load the ResNet50 model\n",
    "    \n",
    "    classes = 38\n",
    "    model = Sequential()\n",
    "    model.add(ResNet50(include_top=False, pooling='avg', weights='imagenet'))\n",
    "    model.add(Dropout(0.5))\n",
    "    model.add(Dense(classes, activation='softmax',name='classifier'))\n",
    "\n",
    "    model.layers[0].trainable = False\n",
    "    \n",
    "    return model\n",
    "\n"
   ]
  },
  {
   "cell_type": "code",
   "execution_count": 12,
   "metadata": {},
   "outputs": [
    {
     "name": "stdout",
     "output_type": "stream",
     "text": [
      "WARNING:tensorflow:From /media/storage1/njera/anaconda3/lib/python3.7/site-packages/keras/backend/tensorflow_backend.py:3445: calling dropout (from tensorflow.python.ops.nn_ops) with keep_prob is deprecated and will be removed in a future version.\n",
      "Instructions for updating:\n",
      "Please use `rate` instead of `keep_prob`. Rate should be set to `rate = 1 - keep_prob`.\n"
     ]
    }
   ],
   "source": [
    "model= build_keras_model()"
   ]
  },
  {
   "cell_type": "code",
   "execution_count": 13,
   "metadata": {},
   "outputs": [
    {
     "name": "stdout",
     "output_type": "stream",
     "text": [
      "_________________________________________________________________\n",
      "Layer (type)                 Output Shape              Param #   \n",
      "=================================================================\n",
      "resnet50 (Model)             (None, 2048)              23587712  \n",
      "_________________________________________________________________\n",
      "dropout_1 (Dropout)          (None, 2048)              0         \n",
      "_________________________________________________________________\n",
      "classifier (Dense)           (None, 38)                77862     \n",
      "=================================================================\n",
      "Total params: 23,665,574\n",
      "Trainable params: 77,862\n",
      "Non-trainable params: 23,587,712\n",
      "_________________________________________________________________\n"
     ]
    }
   ],
   "source": [
    "model.summary()"
   ]
  },
  {
   "cell_type": "markdown",
   "metadata": {
    "colab_type": "text",
    "id": "-Vk9oFSZXLl-"
   },
   "source": [
    "## Train model and save it's checkpoints\n",
    "\n",
    "- Use new Session and Graph to ensure that we can use absolutory same name of variables for train and eval phase.\n",
    "- call `tf.contrib.quantize.create_training_graph` after building model since we want to do Quantization Aware Training"
   ]
  },
  {
   "cell_type": "code",
   "execution_count": 14,
   "metadata": {},
   "outputs": [
    {
     "name": "stdout",
     "output_type": "stream",
     "text": [
      "INFO:tensorflow:Skipping quant after add_1/add\n",
      "INFO:tensorflow:Skipping quant after add_2/add\n",
      "INFO:tensorflow:Skipping quant after add_3/add\n",
      "INFO:tensorflow:Skipping quant after add_4/add\n",
      "INFO:tensorflow:Skipping quant after add_5/add\n",
      "INFO:tensorflow:Skipping quant after add_6/add\n",
      "INFO:tensorflow:Skipping quant after add_7/add\n",
      "INFO:tensorflow:Skipping quant after add_8/add\n",
      "INFO:tensorflow:Skipping quant after add_9/add\n",
      "INFO:tensorflow:Skipping quant after add_10/add\n",
      "INFO:tensorflow:Skipping quant after add_11/add\n",
      "INFO:tensorflow:Skipping quant after add_12/add\n",
      "INFO:tensorflow:Skipping quant after add_13/add\n",
      "INFO:tensorflow:Skipping quant after add_14/add\n",
      "INFO:tensorflow:Skipping quant after add_15/add\n",
      "INFO:tensorflow:Skipping quant after add_16/add\n",
      "INFO:tensorflow:Skipping quant after add_17/add\n",
      "INFO:tensorflow:Skipping quant after add_18/add\n",
      "INFO:tensorflow:Skipping quant after add_19/add\n",
      "INFO:tensorflow:Skipping quant after add_20/add\n",
      "INFO:tensorflow:Skipping quant after add_21/add\n",
      "INFO:tensorflow:Skipping quant after add_22/add\n",
      "INFO:tensorflow:Skipping quant after add_23/add\n",
      "INFO:tensorflow:Skipping quant after add_24/add\n",
      "INFO:tensorflow:Skipping quant after add_25/add\n",
      "INFO:tensorflow:Skipping quant after add_26/add\n",
      "INFO:tensorflow:Skipping quant after add_27/add\n",
      "INFO:tensorflow:Skipping quant after add_28/add\n",
      "INFO:tensorflow:Skipping quant after add_29/add\n",
      "INFO:tensorflow:Skipping quant after add_30/add\n",
      "INFO:tensorflow:Skipping quant after add_31/add\n",
      "INFO:tensorflow:Skipping quant after add_32/add\n",
      "INFO:tensorflow:Skipping quant after add_33/add\n",
      "INFO:tensorflow:Skipping quant after add_34/add\n",
      "INFO:tensorflow:Skipping quant after add_35/add\n",
      "INFO:tensorflow:Skipping quant after add_36/add\n",
      "INFO:tensorflow:Skipping quant after add_37/add\n",
      "INFO:tensorflow:Skipping quant after add_38/add\n",
      "INFO:tensorflow:Skipping quant after add_39/add\n",
      "INFO:tensorflow:Skipping quant after add_40/add\n",
      "INFO:tensorflow:Skipping quant after add_41/add\n",
      "INFO:tensorflow:Skipping quant after add_42/add\n",
      "INFO:tensorflow:Skipping quant after add_43/add\n",
      "INFO:tensorflow:Skipping quant after add_44/add\n",
      "INFO:tensorflow:Skipping quant after add_45/add\n",
      "INFO:tensorflow:Skipping quant after add_46/add\n",
      "INFO:tensorflow:Skipping quant after add_47/add\n",
      "INFO:tensorflow:Skipping quant after add_48/add\n",
      "INFO:tensorflow:Skipping quant after resnet50/add_33/add\n",
      "INFO:tensorflow:Skipping quant after resnet50/add_34/add\n",
      "INFO:tensorflow:Skipping quant after resnet50/add_35/add\n",
      "INFO:tensorflow:Skipping quant after resnet50/add_36/add\n",
      "INFO:tensorflow:Skipping quant after resnet50/add_37/add\n",
      "INFO:tensorflow:Skipping quant after resnet50/add_38/add\n",
      "INFO:tensorflow:Skipping quant after resnet50/add_39/add\n",
      "INFO:tensorflow:Skipping quant after resnet50/add_40/add\n",
      "INFO:tensorflow:Skipping quant after resnet50/add_41/add\n",
      "INFO:tensorflow:Skipping quant after resnet50/add_42/add\n",
      "INFO:tensorflow:Skipping quant after resnet50/add_43/add\n",
      "INFO:tensorflow:Skipping quant after resnet50/add_44/add\n",
      "INFO:tensorflow:Skipping quant after resnet50/add_45/add\n",
      "INFO:tensorflow:Skipping quant after resnet50/add_46/add\n",
      "INFO:tensorflow:Skipping quant after resnet50/add_47/add\n",
      "INFO:tensorflow:Skipping quant after resnet50/add_48/add\n",
      "INFO:tensorflow:Skipping quant after add_49/add\n",
      "INFO:tensorflow:Skipping quant after add_50/add\n",
      "INFO:tensorflow:Skipping quant after add_51/add\n",
      "INFO:tensorflow:Skipping quant after add_52/add\n",
      "INFO:tensorflow:Skipping quant after add_53/add\n",
      "INFO:tensorflow:Skipping quant after add_54/add\n",
      "INFO:tensorflow:Skipping quant after add_55/add\n",
      "INFO:tensorflow:Skipping quant after add_56/add\n",
      "INFO:tensorflow:Skipping quant after add_57/add\n",
      "INFO:tensorflow:Skipping quant after add_58/add\n",
      "INFO:tensorflow:Skipping quant after add_59/add\n",
      "INFO:tensorflow:Skipping quant after add_60/add\n",
      "INFO:tensorflow:Skipping quant after add_61/add\n",
      "INFO:tensorflow:Skipping quant after add_62/add\n",
      "INFO:tensorflow:Skipping quant after add_63/add\n",
      "INFO:tensorflow:Skipping quant after add_64/add\n",
      "INFO:tensorflow:Skipping quant after resnet50_1/add_49/add\n",
      "INFO:tensorflow:Skipping quant after resnet50_1/add_50/add\n",
      "INFO:tensorflow:Skipping quant after resnet50_1/add_51/add\n",
      "INFO:tensorflow:Skipping quant after resnet50_1/add_52/add\n",
      "INFO:tensorflow:Skipping quant after resnet50_1/add_53/add\n",
      "INFO:tensorflow:Skipping quant after resnet50_1/add_54/add\n",
      "INFO:tensorflow:Skipping quant after resnet50_1/add_55/add\n",
      "INFO:tensorflow:Skipping quant after resnet50_1/add_56/add\n",
      "INFO:tensorflow:Skipping quant after resnet50_1/add_57/add\n",
      "INFO:tensorflow:Skipping quant after resnet50_1/add_58/add\n",
      "INFO:tensorflow:Skipping quant after resnet50_1/add_59/add\n",
      "INFO:tensorflow:Skipping quant after resnet50_1/add_60/add\n",
      "INFO:tensorflow:Skipping quant after resnet50_1/add_61/add\n",
      "INFO:tensorflow:Skipping quant after resnet50_1/add_62/add\n",
      "INFO:tensorflow:Skipping quant after resnet50_1/add_63/add\n",
      "INFO:tensorflow:Skipping quant after resnet50_1/add_64/add\n",
      "Epoch 1/20\n",
      "849/849 [==============================] - 652s 768ms/step - loss: 3.7319 - categorical_accuracy: 0.1368 - val_loss: 4.8710 - val_categorical_accuracy: 0.0111\n",
      "Epoch 2/20\n",
      "849/849 [==============================] - 635s 748ms/step - loss: 3.3778 - categorical_accuracy: 0.1870 - val_loss: 4.7542 - val_categorical_accuracy: 0.0112\n",
      "Epoch 3/20\n",
      "849/849 [==============================] - 636s 749ms/step - loss: 3.2783 - categorical_accuracy: 0.1979 - val_loss: 4.6525 - val_categorical_accuracy: 0.0111\n",
      "Epoch 4/20\n",
      "849/849 [==============================] - 636s 749ms/step - loss: 3.2541 - categorical_accuracy: 0.1982 - val_loss: 4.7647 - val_categorical_accuracy: 0.0112\n",
      "Epoch 5/20\n",
      "849/849 [==============================] - 638s 752ms/step - loss: 3.2442 - categorical_accuracy: 0.2007 - val_loss: 4.7497 - val_categorical_accuracy: 0.0112\n",
      "Epoch 6/20\n",
      "849/849 [==============================] - 636s 749ms/step - loss: 3.2407 - categorical_accuracy: 0.2006 - val_loss: 4.5444 - val_categorical_accuracy: 0.0114\n",
      "Epoch 7/20\n",
      "849/849 [==============================] - 634s 747ms/step - loss: 3.2435 - categorical_accuracy: 0.2002 - val_loss: 4.5655 - val_categorical_accuracy: 0.0110\n",
      "Epoch 8/20\n",
      "849/849 [==============================] - 633s 746ms/step - loss: 3.2365 - categorical_accuracy: 0.2028 - val_loss: 4.1423 - val_categorical_accuracy: 0.0115\n",
      "Epoch 9/20\n",
      "849/849 [==============================] - 634s 747ms/step - loss: 3.2556 - categorical_accuracy: 0.2020 - val_loss: 4.5770 - val_categorical_accuracy: 0.0112\n",
      "Epoch 10/20\n",
      "849/849 [==============================] - 634s 747ms/step - loss: 3.2273 - categorical_accuracy: 0.2034 - val_loss: 4.5542 - val_categorical_accuracy: 0.0111\n",
      "Epoch 11/20\n",
      "849/849 [==============================] - 637s 750ms/step - loss: 3.2464 - categorical_accuracy: 0.2022 - val_loss: 4.5934 - val_categorical_accuracy: 0.0111\n",
      "Epoch 12/20\n",
      "849/849 [==============================] - 636s 749ms/step - loss: 3.2317 - categorical_accuracy: 0.2029 - val_loss: 4.5500 - val_categorical_accuracy: 0.0113\n",
      "Epoch 13/20\n",
      "849/849 [==============================] - 636s 749ms/step - loss: 3.2335 - categorical_accuracy: 0.2021 - val_loss: 4.5467 - val_categorical_accuracy: 0.0115\n",
      "Epoch 14/20\n",
      "849/849 [==============================] - 636s 749ms/step - loss: 3.2403 - categorical_accuracy: 0.2026 - val_loss: 4.7826 - val_categorical_accuracy: 0.0112\n",
      "Epoch 15/20\n",
      "849/849 [==============================] - 640s 754ms/step - loss: 3.2275 - categorical_accuracy: 0.2031 - val_loss: 4.7332 - val_categorical_accuracy: 0.0112\n",
      "Epoch 16/20\n",
      "849/849 [==============================] - 636s 749ms/step - loss: 3.2383 - categorical_accuracy: 0.2017 - val_loss: 4.6646 - val_categorical_accuracy: 0.0111\n",
      "Epoch 17/20\n",
      "849/849 [==============================] - 640s 754ms/step - loss: 3.2499 - categorical_accuracy: 0.2013 - val_loss: 4.7333 - val_categorical_accuracy: 0.0112\n",
      "Epoch 18/20\n",
      "849/849 [==============================] - 634s 747ms/step - loss: 3.2470 - categorical_accuracy: 0.2002 - val_loss: 4.5587 - val_categorical_accuracy: 0.0112\n",
      "Epoch 19/20\n",
      "849/849 [==============================] - 634s 747ms/step - loss: 3.2177 - categorical_accuracy: 0.2034 - val_loss: 4.5589 - val_categorical_accuracy: 0.0115\n",
      "Epoch 20/20\n",
      "849/849 [==============================] - 634s 747ms/step - loss: 3.2432 - categorical_accuracy: 0.2023 - val_loss: 4.5830 - val_categorical_accuracy: 0.0115\n"
     ]
    }
   ],
   "source": [
    "train_graph = tf.get_default_graph()\n",
    "\n",
    "train_sess = tf.Session(graph=train_graph)\n",
    "\n",
    "\n",
    "keras.backend.set_session(train_sess)\n",
    "with train_sess.as_default():\n",
    "    with train_graph.as_default():\n",
    "        train_model = build_keras_model()\n",
    "\n",
    "        tf.contrib.quantize.create_training_graph(input_graph=train_graph, quant_delay=100)\n",
    "        train_sess.run(tf.global_variables_initializer())    \n",
    "\n",
    "        #opt = SGD(lr=INIT_LR, momentum=0.9, decay=INIT_LR / NUM_EPOCHS)\n",
    "        train_model.compile(loss=\"categorical_crossentropy\", optimizer=\"adam\",\n",
    "           metrics=[metrics.categorical_accuracy])\n",
    "\n",
    "        history = train_model.fit_generator(train_generator,\n",
    "                                  steps_per_epoch=849,\n",
    "                                  epochs=20,\n",
    "                                  validation_data=val_generator,\n",
    "                                  validation_steps=170)         \n",
    "        # save graph and checkpoints\n",
    "        saver = tf.train.Saver()\n",
    "        saver.save(train_sess, os.path.join(os.getcwd(),'checkpoints'))\n",
    "    #predictions = train_model.predict(testX)"
   ]
  },
  {
   "cell_type": "markdown",
   "metadata": {
    "colab_type": "text",
    "id": "x7AT9qAxelzx"
   },
   "source": []
  },
  {
   "cell_type": "code",
   "execution_count": 15,
   "metadata": {
    "colab": {
     "base_uri": "https://localhost:8080/",
     "height": 273
    },
    "colab_type": "code",
    "id": "jWp9_I06ZjDo",
    "outputId": "6678ca86-923c-442b-bb61-901ad8f5cc67"
   },
   "outputs": [
    {
     "data": {
      "image/png": "[encoded data removed]",
      "text/plain": [
       "<Figure size 432x288 with 1 Axes>"
      ]
     },
     "metadata": {
      "needs_background": "light"
     },
     "output_type": "display_data"
    },
    {
     "data": {
      "image/png": "[encoded data removed]",
      "text/plain": [
       "<Figure size 432x288 with 1 Axes>"
      ]
     },
     "metadata": {
      "needs_background": "light"
     },
     "output_type": "display_data"
    }
   ],
   "source": [
    "acc = history.history['categorical_accuracy']\n",
    "val_acc = history.history['val_categorical_accuracy']\n",
    "loss = history.history['loss']\n",
    "val_loss = history.history['val_loss']\n",
    "epochs = range(1, len(acc) + 1)\n",
    "plt.plot(epochs, acc, 'bo', label='Training acc')\n",
    "plt.plot(epochs, val_acc, 'b', label='Validation acc')\n",
    "plt.title('Training and validation accuracy')\n",
    "plt.legend()\n",
    "plt.figure()\n",
    "plt.plot(epochs, loss, 'bo', label='Training loss')\n",
    "plt.plot(epochs, val_loss, 'b', label='Validation loss')\n",
    "plt.title('Training and validation loss')\n",
    "plt.legend()\n",
    "plt.show()"
   ]
  },
  {
   "cell_type": "markdown",
   "metadata": {
    "colab_type": "text",
    "id": "dYOBvXw6X03l"
   },
   "source": [
    "### Freeze model and save it\n",
    "\n",
    "- Create new Session and Graph\n",
    "- Call `tf.contrib.quantize.create_eval_graph` and get graph_def after building model before saver.restore\n",
    "- Call `saver.restore` to load the trained weights.\n",
    "   - saver.restore may add unneeded variables to the graph. So we have to get the graph_def before save.restore is called.\n",
    "- We can use `tf.graph_util.convert_variables_to_constants` to freeze the graph_def"
   ]
  },
  {
   "cell_type": "code",
   "execution_count": null,
   "metadata": {
    "colab": {
     "base_uri": "https://localhost:8080/",
     "height": 272
    },
    "colab_type": "code",
    "id": "3tI1s0JngKN0",
    "outputId": "7422aea7-e89f-4741-b157-f3801df4d1ee"
   },
   "outputs": [],
   "source": [
    "# eval\n",
    "os.environ[\"CUDA_VISIBLE_DEVICES\"] = \"0\"\n",
    "gpu_options = tf.GPUOptions(allow_growth=True)\n",
    "#sess = tf.Session(config=tf.ConfigProto(gpu_options=gpu_options))\n",
    "eval_graph = tf.Graph()\n",
    "eval_sess = tf.Session(config=tf.ConfigProto(gpu_options=gpu_options)\n",
    "\n",
    "keras.backend.set_session(eval_sess)\n",
    "\n",
    "with eval_graph.as_default():\n",
    "    keras.backend.set_learning_phase(0)\n",
    "    eval_model = build_keras_model()\n",
    "    tf.contrib.quantize.create_eval_graph(input_graph=eval_graph)\n",
    "    eval_graph_def = eval_graph.as_graph_def()\n",
    "    saver = tf.train.Saver()\n",
    "    saver.restore(eval_sess, 'checkpoints')\n",
    "\n",
    "    frozen_graph_def = tf.graph_util.convert_variables_to_constants(\n",
    "        eval_sess,\n",
    "        eval_graph_def,\n",
    "        [eval_model.output.op.name]\n",
    "    )\n",
    "\n",
    "    with open('ResNet50_frozen_model.pb', 'wb') as f:\n",
    "        f.write(frozen_graph_def.SerializeToString())"
   ]
  }
 ],
 "metadata": {
  "accelerator": "GPU",
  "colab": {
   "collapsed_sections": [],
   "name": "Success EdgeTPU with Keras",
   "provenance": [],
   "toc_visible": true
  },
  "kernelspec": {
   "display_name": "Python 3",
   "language": "python",
   "name": "python3"
  },
  "language_info": {
   "codemirror_mode": {
    "name": "ipython",
    "version": 3
   },
   "file_extension": ".py",
   "mimetype": "text/x-python",
   "name": "python",
   "nbconvert_exporter": "python",
   "pygments_lexer": "ipython3",
   "version": "3.7.3"
  }
 },
 "nbformat": 4,
 "nbformat_minor": 1
}
